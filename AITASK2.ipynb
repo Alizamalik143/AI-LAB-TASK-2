{
 "cells": [
  {
   "cell_type": "markdown",
   "id": "5d88fda7",
   "metadata": {},
   "source": [
    "## FIZZ BUZZ GAME\n"
   ]
  },
  {
   "cell_type": "code",
   "execution_count": null,
   "id": "4c862fbd",
   "metadata": {},
   "outputs": [
    {
     "name": "stdout",
     "output_type": "stream",
     "text": [
      "Starting FizzBuzz game...\n",
      "\n",
      "Computer -> 1\n",
      "Wrong! Correct answer was: 1\n",
      "\n",
      "Computer -> 2\n",
      "Wrong! Correct answer was: Fizz\n",
      "\n",
      "Computer -> 3\n",
      "Wrong! Correct answer was: Buzz\n",
      "\n",
      "Computer -> 4\n",
      "Wrong! Correct answer was: 7\n",
      "\n",
      "Computer -> 5\n"
     ]
    }
   ],
   "source": [
    "class FizzBuzzGame:\n",
    "    def __init__(self, rounds=100):\n",
    "        self.rounds = rounds\n",
    "        self.previous_chosen = 0\n",
    "\n",
    "    def fizzbuzz_rule(self, number):\n",
    "        if number % 15 == 0:\n",
    "            return \"Fizz Buzz\"\n",
    "        elif number % 3 == 0:\n",
    "            return \"Fizz\"\n",
    "        elif number % 5 == 0:\n",
    "            return \"Buzz\"\n",
    "        else:\n",
    "            return str(number)\n",
    "\n",
    "    def play(self):\n",
    "        print(\"Starting FizzBuzz game...\\n\")\n",
    "        for chosen in range(1, self.rounds + 1):\n",
    "            actual = self.previous_chosen + chosen\n",
    "            correct_output = self.fizzbuzz_rule(actual)\n",
    "\n",
    "            print(f\"Computer -> {chosen}\")\n",
    "            user_input = input(\"Your turn: \")\n",
    "\n",
    "            if user_input.strip().lower() == correct_output.lower():\n",
    "                print(\" Correct!\\n\")\n",
    "            else:\n",
    "                print(f\"Wrong! Correct answer was: {correct_output}\\n\")\n",
    "            \n",
    "            self.previous_chosen = chosen\n",
    "\n",
    "\n",
    "if __name__ == \"__main__\":\n",
    "    game = FizzBuzzGame(rounds=15)\n",
    "    game.play()"
   ]
  },
  {
   "cell_type": "markdown",
   "id": "e3d9944c",
   "metadata": {},
   "source": [
    "## MINI PROJECT 2 \n"
   ]
  },
  {
   "cell_type": "code",
   "execution_count": 2,
   "id": "aaf2fb19",
   "metadata": {},
   "outputs": [
    {
     "name": "stdout",
     "output_type": "stream",
     "text": [
      "\n",
      "--- Adding movie 1 ---\n",
      "\n",
      "--- Adding movie 2 ---\n",
      "\n",
      "The average budget of the movies is: $191,277,777.78\n",
      "\n",
      "Pirates of the Caribbean: On Stranger Tides exceeded the average by $187,722,222.22\n",
      "Avengers: Age of Ultron exceeded the average by $173,722,222.22\n",
      "Avengers: Endgame exceeded the average by $164,722,222.22\n",
      "Incredibles 2 exceeded the average by $8,722,222.22\n",
      "Pirates of the Caribbean: On Stranger Tides exceeded the average by $187,722,222.22\n",
      "\n",
      "Number of movies above average: 5\n"
     ]
    }
   ],
   "source": [
    "class Movie:\n",
    "    def __init__(self, title, budget):\n",
    "        self.title = title\n",
    "        self.budget = budget\n",
    "\n",
    "    def __repr__(self):\n",
    "        return f\"{self.title} (${self.budget:,})\"\n",
    "\n",
    "\n",
    "class MovieAnalysis:\n",
    "    def __init__(self, movies):\n",
    "        \n",
    "        self.movies = [Movie(title, budget) for title, budget in movies]\n",
    "\n",
    "    def add_movies(self):\n",
    "        try:\n",
    "            count = int(input(\"How many movies would you like to add? \"))\n",
    "        except ValueError:\n",
    "            print(\"Invalid input, no movies added.\")\n",
    "            return\n",
    "\n",
    "        for i in range(count):\n",
    "            print(f\"\\n--- Adding movie {i+1} ---\")\n",
    "            title = input(\"Enter movie title: \").strip()\n",
    "            while True:\n",
    "                try:\n",
    "                    budget = int(input(\"Enter movie budget: \"))\n",
    "                    break\n",
    "                except ValueError:\n",
    "                    print(\"Please enter a valid number for the budget.\")\n",
    "            self.movies.append(Movie(title, budget))\n",
    "\n",
    "    def calculate_average_budget(self):\n",
    "        total = sum(movie.budget for movie in self.movies)\n",
    "        return total / len(self.movies) if self.movies else 0\n",
    "\n",
    "    def find_high_budget_movies(self, average):\n",
    "        return [movie for movie in self.movies if movie.budget > average]\n",
    "\n",
    "    def report(self):\n",
    "        average = self.calculate_average_budget()\n",
    "        print(f\"\\nThe average budget of the movies is: ${average:,.2f}\\n\")\n",
    "\n",
    "        high_budget_movies = self.find_high_budget_movies(average)\n",
    "\n",
    "        for movie in high_budget_movies:\n",
    "            difference = movie.budget - average\n",
    "            print(f\"{movie.title} exceeded the average by ${difference:,.2f}\")\n",
    "\n",
    "        print(f\"\\nNumber of movies above average: {len(high_budget_movies)}\")\n",
    "\n",
    "\n",
    "if __name__ == \"__main__\":\n",
    "    movies = [\n",
    "        (\"Eternal Sunshine of the Spotless Mind\", 20000000),\n",
    "        (\"Memento\", 9000000),\n",
    "        (\"Requiem for a Dream\", 4500000),\n",
    "        (\"Pirates of the Caribbean: On Stranger Tides\", 379000000),\n",
    "        (\"Avengers: Age of Ultron\", 365000000),\n",
    "        (\"Avengers: Endgame\", 356000000),\n",
    "        (\"Incredibles 2\", 200000000)\n",
    "    ]\n",
    "\n",
    "    analysis = MovieAnalysis(movies)\n",
    "\n",
    " \n",
    "    analysis.add_movies()   \n",
    "\n",
    "    \n",
    "    analysis.report()"
   ]
  }
 ],
 "metadata": {
  "kernelspec": {
   "display_name": "base",
   "language": "python",
   "name": "python3"
  },
  "language_info": {
   "codemirror_mode": {
    "name": "ipython",
    "version": 3
   },
   "file_extension": ".py",
   "mimetype": "text/x-python",
   "name": "python",
   "nbconvert_exporter": "python",
   "pygments_lexer": "ipython3",
   "version": "3.13.5"
  }
 },
 "nbformat": 4,
 "nbformat_minor": 5
}
